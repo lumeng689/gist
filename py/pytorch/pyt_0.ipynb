{
 "cells": [
  {
   "cell_type": "code",
   "execution_count": 4,
   "metadata": {
    "pycharm": {
     "is_executing": false
    }
   },
   "outputs": [
    {
     "name": "stdout",
     "text": [
      "tensor([[6.4298e+02, 7.7212e-43, 6.4298e+02],\n        [7.7212e-43, 6.4296e+02, 7.7212e-43],\n        [6.4296e+02, 7.7212e-43, 6.4299e+02],\n        [7.7212e-43, 6.4299e+02, 7.7212e-43],\n        [6.4305e+02, 7.7212e-43, 6.4305e+02]])\n"
     ],
     "output_type": "stream"
    }
   ],
   "source": [
    "from __future__ import print_function\n",
    "import torch\n",
    "x = torch.empty(5, 3)\n",
    "print(x)"
   ]
  },
  {
   "cell_type": "code",
   "execution_count": 5,
   "metadata": {
    "pycharm": {
     "is_executing": false
    }
   },
   "outputs": [
    {
     "name": "stdout",
     "text": [
      "tensor([[6.4330e+02, 5.5641e-01, 6.4334e+02],\n        [5.7089e-01, 6.4305e+02, 4.3844e-01],\n        [6.4388e+02, 2.1159e-01, 6.4382e+02],\n        [4.5965e-01, 6.4352e+02, 8.9939e-01],\n        [6.4307e+02, 7.7622e-01, 6.4346e+02]])\n"
     ],
     "output_type": "stream"
    }
   ],
   "source": [
    "y = torch.rand(5, 3)\n",
    "print(x + y)"
   ]
  },
  {
   "cell_type": "code",
   "execution_count": 6,
   "metadata": {
    "pycharm": {
     "is_executing": false
    }
   },
   "outputs": [
    {
     "data": {
      "text/plain": "array([[0, 1, 2],\n       [3, 4, 5]])"
     },
     "metadata": {},
     "output_type": "execute_result",
     "execution_count": 6
    }
   ],
   "source": [
    "import numpy as np\n",
    "np_data = np.arange(6).reshape(2,3)\n",
    "np_data"
   ]
  },
  {
   "cell_type": "code",
   "execution_count": 7,
   "metadata": {
    "pycharm": {
     "is_executing": false
    }
   },
   "outputs": [
    {
     "name": "stdout",
     "text": [
      "tensor([[0, 1, 2],\n        [3, 4, 5]], dtype=torch.int32)\n"
     ],
     "output_type": "stream"
    }
   ],
   "source": [
    "tc_data = torch.from_numpy(np_data)\n",
    "print(tc_data)"
   ]
  },
  {
   "cell_type": "code",
   "execution_count": 8,
   "metadata": {
    "pycharm": {
     "is_executing": false
    }
   },
   "outputs": [
    {
     "data": {
      "text/plain": "array([[0, 1, 2],\n       [3, 4, 5]])"
     },
     "metadata": {},
     "output_type": "execute_result",
     "execution_count": 8
    }
   ],
   "source": [
    "tc_data.numpy()"
   ]
  },
  {
   "cell_type": "code",
   "execution_count": 9,
   "metadata": {
    "pycharm": {
     "is_executing": false
    }
   },
   "outputs": [
    {
     "name": "stdout",
     "text": [
      "[[ 7 10]\n [15 22]]\ntensor([[ 7., 10.],\n        [15., 22.]])\n[[ 7 10]\n [15 22]]\n"
     ],
     "output_type": "stream"
    }
   ],
   "source": [
    "data = [[1,2],[3,4]]\n",
    "tensor = torch.FloatTensor(data)\n",
    "\n",
    "print(np.matmul(data,data))\n",
    "print(torch.mm(tensor, tensor))\n",
    "\n",
    "data = np.array(data)\n",
    "print(data.dot(data))\n",
    "# print(tensor.dot(tensor))"
   ]
  },
  {
   "cell_type": "code",
   "execution_count": 10,
   "metadata": {
    "pycharm": {
     "is_executing": false
    }
   },
   "outputs": [
    {
     "name": "stdout",
     "text": [
      "tensor([-5.0000, -4.9497, -4.8995, -4.8492, -4.7990, -4.7487, -4.6985, -4.6482,\n        -4.5980, -4.5477, -4.4975, -4.4472, -4.3970, -4.3467, -4.2965, -4.2462,\n        -4.1960, -4.1457, -4.0955, -4.0452, -3.9950, -3.9447, -3.8945, -3.8442,\n        -3.7940, -3.7437, -3.6935, -3.6432, -3.5930, -3.5427, -3.4925, -3.4422,\n        -3.3920, -3.3417, -3.2915, -3.2412, -3.1910, -3.1407, -3.0905, -3.0402,\n        -2.9899, -2.9397, -2.8894, -2.8392, -2.7889, -2.7387, -2.6884, -2.6382,\n        -2.5879, -2.5377, -2.4874, -2.4372, -2.3869, -2.3367, -2.2864, -2.2362,\n        -2.1859, -2.1357, -2.0854, -2.0352, -1.9849, -1.9347, -1.8844, -1.8342,\n        -1.7839, -1.7337, -1.6834, -1.6332, -1.5829, -1.5327, -1.4824, -1.4322,\n        -1.3819, -1.3317, -1.2814, -1.2312, -1.1809, -1.1307, -1.0804, -1.0302,\n        -0.9799, -0.9296, -0.8794, -0.8291, -0.7789, -0.7286, -0.6784, -0.6281,\n        -0.5779, -0.5276, -0.4774, -0.4271, -0.3769, -0.3266, -0.2764, -0.2261,\n        -0.1759, -0.1256, -0.0754, -0.0251,  0.0251,  0.0754,  0.1256,  0.1759,\n         0.2261,  0.2764,  0.3266,  0.3769,  0.4271,  0.4774,  0.5276,  0.5779,\n         0.6281,  0.6784,  0.7286,  0.7789,  0.8291,  0.8794,  0.9296,  0.9799,\n         1.0302,  1.0804,  1.1307,  1.1809,  1.2312,  1.2814,  1.3317,  1.3819,\n         1.4322,  1.4824,  1.5327,  1.5829,  1.6332,  1.6834,  1.7337,  1.7839,\n         1.8342,  1.8844,  1.9347,  1.9849,  2.0352,  2.0854,  2.1357,  2.1859,\n         2.2362,  2.2864,  2.3367,  2.3869,  2.4372,  2.4874,  2.5377,  2.5879,\n         2.6382,  2.6884,  2.7387,  2.7889,  2.8392,  2.8894,  2.9397,  2.9899,\n         3.0402,  3.0905,  3.1407,  3.1910,  3.2412,  3.2915,  3.3417,  3.3920,\n         3.4422,  3.4925,  3.5427,  3.5930,  3.6432,  3.6935,  3.7437,  3.7940,\n         3.8442,  3.8945,  3.9447,  3.9950,  4.0452,  4.0955,  4.1457,  4.1960,\n         4.2462,  4.2965,  4.3467,  4.3970,  4.4472,  4.4975,  4.5477,  4.5980,\n         4.6482,  4.6985,  4.7487,  4.7990,  4.8492,  4.8995,  4.9497,  5.0000])\ntensor([-5.0000, -4.9497, -4.8995, -4.8492, -4.7990, -4.7487, -4.6985, -4.6482,\n        -4.5980, -4.5477, -4.4975, -4.4472, -4.3970, -4.3467, -4.2965, -4.2462,\n        -4.1960, -4.1457, -4.0955, -4.0452, -3.9950, -3.9447, -3.8945, -3.8442,\n        -3.7940, -3.7437, -3.6935, -3.6432, -3.5930, -3.5427, -3.4925, -3.4422,\n        -3.3920, -3.3417, -3.2915, -3.2412, -3.1910, -3.1407, -3.0905, -3.0402,\n        -2.9899, -2.9397, -2.8894, -2.8392, -2.7889, -2.7387, -2.6884, -2.6382,\n        -2.5879, -2.5377, -2.4874, -2.4372, -2.3869, -2.3367, -2.2864, -2.2362,\n        -2.1859, -2.1357, -2.0854, -2.0352, -1.9849, -1.9347, -1.8844, -1.8342,\n        -1.7839, -1.7337, -1.6834, -1.6332, -1.5829, -1.5327, -1.4824, -1.4322,\n        -1.3819, -1.3317, -1.2814, -1.2312, -1.1809, -1.1307, -1.0804, -1.0302,\n        -0.9799, -0.9296, -0.8794, -0.8291, -0.7789, -0.7286, -0.6784, -0.6281,\n        -0.5779, -0.5276, -0.4774, -0.4271, -0.3769, -0.3266, -0.2764, -0.2261,\n        -0.1759, -0.1256, -0.0754, -0.0251,  0.0251,  0.0754,  0.1256,  0.1759,\n         0.2261,  0.2764,  0.3266,  0.3769,  0.4271,  0.4774,  0.5276,  0.5779,\n         0.6281,  0.6784,  0.7286,  0.7789,  0.8291,  0.8794,  0.9296,  0.9799,\n         1.0302,  1.0804,  1.1307,  1.1809,  1.2312,  1.2814,  1.3317,  1.3819,\n         1.4322,  1.4824,  1.5327,  1.5829,  1.6332,  1.6834,  1.7337,  1.7839,\n         1.8342,  1.8844,  1.9347,  1.9849,  2.0352,  2.0854,  2.1357,  2.1859,\n         2.2362,  2.2864,  2.3367,  2.3869,  2.4372,  2.4874,  2.5377,  2.5879,\n         2.6382,  2.6884,  2.7387,  2.7889,  2.8392,  2.8894,  2.9397,  2.9899,\n         3.0402,  3.0905,  3.1407,  3.1910,  3.2412,  3.2915,  3.3417,  3.3920,\n         3.4422,  3.4925,  3.5427,  3.5930,  3.6432,  3.6935,  3.7437,  3.7940,\n         3.8442,  3.8945,  3.9447,  3.9950,  4.0452,  4.0955,  4.1457,  4.1960,\n         4.2462,  4.2965,  4.3467,  4.3970,  4.4472,  4.4975,  4.5477,  4.5980,\n         4.6482,  4.6985,  4.7487,  4.7990,  4.8492,  4.8995,  4.9497,  5.0000])\n[-5.         -4.9497485  -4.8994975  -4.849246   -4.798995   -4.7487435\n -4.6984925  -4.648241   -4.59799    -4.5477386  -4.4974875  -4.447236\n -4.396985   -4.3467336  -4.2964826  -4.246231   -4.19598    -4.1457286\n -4.0954776  -4.045226   -3.9949749  -3.9447236  -3.8944724  -3.844221\n -3.7939699  -3.7437186  -3.6934674  -3.6432161  -3.592965   -3.5427136\n -3.4924624  -3.4422112  -3.39196    -3.3417087  -3.2914572  -3.241206\n -3.1909547  -3.1407034  -3.0904522  -3.040201   -2.9899497  -2.9396985\n -2.8894472  -2.839196   -2.7889447  -2.7386935  -2.6884422  -2.638191\n -2.5879397  -2.5376885  -2.4874372  -2.437186   -2.3869348  -2.3366835\n -2.2864323  -2.236181   -2.1859295  -2.1356783  -2.085427   -2.0351758\n -1.9849247  -1.9346733  -1.8844221  -1.8341708  -1.7839196  -1.7336683\n -1.6834171  -1.6331658  -1.5829146  -1.5326633  -1.4824121  -1.4321609\n -1.3819095  -1.3316582  -1.281407   -1.2311558  -1.1809045  -1.1306533\n -1.080402   -1.0301508  -0.9798995  -0.9296482  -0.879397   -0.8291457\n -0.7788945  -0.72864324 -0.67839193 -0.6281407  -0.57788944 -0.5276382\n -0.47738692 -0.42713568 -0.37688443 -0.32663316 -0.2763819  -0.22613065\n -0.1758794  -0.12562814 -0.07537688 -0.02512563  0.02512563  0.07537688\n  0.12562814  0.1758794   0.22613065  0.2763819   0.32663316  0.37688443\n  0.42713568  0.47738692  0.5276382   0.57788944  0.6281407   0.67839193\n  0.72864324  0.7788945   0.8291457   0.879397    0.9296482   0.9798995\n  1.0301508   1.080402    1.1306533   1.1809045   1.2311558   1.281407\n  1.3316582   1.3819095   1.4321609   1.4824121   1.5326633   1.5829146\n  1.6331658   1.6834171   1.7336683   1.7839196   1.8341708   1.8844221\n  1.9346733   1.9849247   2.0351758   2.085427    2.1356783   2.1859295\n  2.236181    2.2864323   2.3366835   2.3869348   2.437186    2.4874372\n  2.5376885   2.5879397   2.638191    2.6884422   2.7386935   2.7889447\n  2.839196    2.8894472   2.9396985   2.9899497   3.040201    3.0904522\n  3.1407034   3.1909547   3.241206    3.2914572   3.3417087   3.39196\n  3.4422112   3.4924624   3.5427136   3.592965    3.6432161   3.6934674\n  3.7437186   3.7939699   3.844221    3.8944724   3.9447236   3.9949749\n  4.045226    4.0954776   4.1457286   4.19598     4.246231    4.2964826\n  4.3467336   4.396985    4.447236    4.4974875   4.5477386   4.59799\n  4.648241    4.6984925   4.7487435   4.798995    4.849246    4.8994975\n  4.9497485   5.        ]\n"
     ],
     "output_type": "stream"
    }
   ],
   "source": [
    "from torch.autograd import Variable\n",
    "import torch.nn.functional as F\n",
    "import matplotlib.pyplot as plt\n",
    "\n",
    "x = torch.linspace(-5, 5, 200)\n",
    "print(x)\n",
    "x = Variable(x)\n",
    "print(x)\n",
    "\n",
    "x_np = x.data.numpy()\n",
    "print(x_np)"
   ]
  },
  {
   "cell_type": "code",
   "execution_count": 11,
   "metadata": {
    "pycharm": {
     "is_executing": false
    }
   },
   "outputs": [
    {
     "name": "stderr",
     "text": [
      "C:\\ProgramData\\Anaconda3\\lib\\site-packages\\torch\\nn\\functional.py:1558: UserWarning: nn.functional.tanh is deprecated. Use torch.tanh instead.\n  warnings.warn(\"nn.functional.tanh is deprecated. Use torch.tanh instead.\")\n"
     ],
     "output_type": "stream"
    }
   ],
   "source": [
    "y_relu = F.relu(x).data.numpy()\n",
    "# F.sigmoid使用torch.sigmoid来代替\n",
    "y_sigmoid = torch.sigmoid(x).data.numpy()\n",
    "y_tanh = F.tanh(x).data.numpy()\n",
    "y_softplus = F.softplus(x).data.numpy()"
   ]
  },
  {
   "cell_type": "code",
   "execution_count": 12,
   "metadata": {
    "pycharm": {
     "is_executing": false
    }
   },
   "outputs": [
    {
     "data": {
      "text/plain": "<matplotlib.legend.Legend at 0x22747ede848>"
     },
     "metadata": {},
     "output_type": "execute_result",
     "execution_count": 12
    },
    {
     "data": {
      "text/plain": "<Figure size 576x432 with 4 Axes>",
      "image/png": "[encoded data removed]"
     },
     "metadata": {
      "needs_background": "light"
     },
     "output_type": "display_data"
    }
   ],
   "source": [
    "plt.figure(1, figsize=(8,6))\n",
    "plt.subplot(221)\n",
    "plt.plot(x_np, y_relu, c='red', label='relu')\n",
    "plt.ylim(-1, 5)\n",
    "plt.legend(loc='best')\n",
    "\n",
    "#\n",
    "plt.subplot(222)\n",
    "plt.plot(x_np, y_sigmoid, c='red', label='sigmoid')\n",
    "plt.ylim(-0.2, 1.2)\n",
    "plt.legend(loc='best')\n",
    "\n",
    "#\n",
    "plt.subplot(223)\n",
    "plt.plot(x_np, y_tanh, c='red', label='tanh')\n",
    "plt.ylim(-1.2, 1.2)\n",
    "plt.legend(loc='best')\n",
    "\n",
    "# \n",
    "plt.subplot(224)\n",
    "plt.plot(x_np, y_softplus, c='red', label='softplus')\n",
    "plt.ylim(-0.2, 6)\n",
    "plt.legend(loc='best')"
   ]
  },
  {
   "cell_type": "code",
   "execution_count": 12,
   "metadata": {
    "pycharm": {
     "is_executing": false
    }
   },
   "outputs": [],
   "source": []
  }
 ],
 "metadata": {
  "kernelspec": {
   "display_name": "Python 3",
   "language": "python",
   "name": "python3"
  },
  "language_info": {
   "codemirror_mode": {
    "name": "ipython",
    "version": 3
   },
   "file_extension": ".py",
   "mimetype": "text/x-python",
   "name": "python",
   "nbconvert_exporter": "python",
   "pygments_lexer": "ipython3",
   "version": "3.7.6"
  }
 },
 "nbformat": 4,
 "nbformat_minor": 4
}