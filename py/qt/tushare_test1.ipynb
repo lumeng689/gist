{
 "cells": [
  {
   "cell_type": "code",
   "execution_count": 3,
   "metadata": {
    "pycharm": {
     "is_executing": false
    }
   },
   "outputs": [
    {
     "name": "stdout",
     "text": [
      "1.2.60\n本接口即将停止更新，请尽快使用Pro版接口：https://tushare.pro/document/2\n"
     ],
     "output_type": "stream"
    },
    {
     "data": {
      "text/plain": "             open   high  close    low     volume  price_change  p_change  \\\ndate                                                                        \n2020-06-15  21.51  21.69  21.08  21.08   66670.96         -0.41     -1.91   \n2020-06-12  21.55  22.05  21.73  21.45   73129.73         -0.24     -1.09   \n2020-06-11  21.62  22.33  21.97  21.57  122162.89          0.41      1.90   \n2020-06-10  21.87  21.88  21.56  21.56   51312.06         -0.34     -1.55   \n2020-06-09  21.76  22.09  21.90  21.66   82666.85          0.05      0.23   \n...           ...    ...    ...    ...        ...           ...       ...   \n2017-12-22  23.21  23.39  22.99  22.90   28394.00         -0.21     -0.91   \n2017-12-21  23.39  23.50  23.21  22.86   34005.55         -0.11     -0.47   \n2017-12-20  23.61  23.96  23.33  23.20   43368.92         -0.14     -0.60   \n2017-12-19  23.23  23.66  23.46  23.23   43068.70          0.31      1.34   \n2017-12-18  23.00  23.49  23.13  22.83   29610.00          0.12      0.52   \n\n               ma5    ma10    ma20      v_ma5    v_ma10    v_ma20  \ndate                                                               \n2020-06-15  21.648  21.414  20.971   79188.50  90148.89  75689.54  \n2020-06-12  21.802  21.369  20.943  101064.40  89704.25  75386.04  \n2020-06-11  21.692  21.224  20.887  103798.83  86466.63  75891.45  \n2020-06-10  21.466  21.041  20.798   86158.65  79278.93  71339.50  \n2020-06-09  21.328  20.942  20.734   91077.11  80299.32  70614.08  \n...            ...     ...     ...        ...       ...       ...  \n2017-12-22  23.224  23.224  23.224   35689.43  35689.43  35689.43  \n2017-12-21  23.283  23.283  23.283   37513.29  37513.29  37513.29  \n2017-12-20  23.307  23.307  23.307   38682.54  38682.54  38682.54  \n2017-12-19  23.295  23.295  23.295   36339.35  36339.35  36339.35  \n2017-12-18  23.130  23.130  23.130   29610.00  29610.00  29610.00  \n\n[528 rows x 13 columns]",
      "text/html": "<div>\n<style scoped>\n    .dataframe tbody tr th:only-of-type {\n        vertical-align: middle;\n    }\n\n    .dataframe tbody tr th {\n        vertical-align: top;\n    }\n\n    .dataframe thead th {\n        text-align: right;\n    }\n</style>\n<table border=\"1\" class=\"dataframe\">\n  <thead>\n    <tr style=\"text-align: right;\">\n      <th></th>\n      <th>open</th>\n      <th>high</th>\n      <th>close</th>\n      <th>low</th>\n      <th>volume</th>\n      <th>price_change</th>\n      <th>p_change</th>\n      <th>ma5</th>\n      <th>ma10</th>\n      <th>ma20</th>\n      <th>v_ma5</th>\n      <th>v_ma10</th>\n      <th>v_ma20</th>\n    </tr>\n    <tr>\n      <th>date</th>\n      <th></th>\n      <th></th>\n      <th></th>\n      <th></th>\n      <th></th>\n      <th></th>\n      <th></th>\n      <th></th>\n      <th></th>\n      <th></th>\n      <th></th>\n      <th></th>\n      <th></th>\n    </tr>\n  </thead>\n  <tbody>\n    <tr>\n      <th>2020-06-15</th>\n      <td>21.51</td>\n      <td>21.69</td>\n      <td>21.08</td>\n      <td>21.08</td>\n      <td>66670.96</td>\n      <td>-0.41</td>\n      <td>-1.91</td>\n      <td>21.648</td>\n      <td>21.414</td>\n      <td>20.971</td>\n      <td>79188.50</td>\n      <td>90148.89</td>\n      <td>75689.54</td>\n    </tr>\n    <tr>\n      <th>2020-06-12</th>\n      <td>21.55</td>\n      <td>22.05</td>\n      <td>21.73</td>\n      <td>21.45</td>\n      <td>73129.73</td>\n      <td>-0.24</td>\n      <td>-1.09</td>\n      <td>21.802</td>\n      <td>21.369</td>\n      <td>20.943</td>\n      <td>101064.40</td>\n      <td>89704.25</td>\n      <td>75386.04</td>\n    </tr>\n    <tr>\n      <th>2020-06-11</th>\n      <td>21.62</td>\n      <td>22.33</td>\n      <td>21.97</td>\n      <td>21.57</td>\n      <td>122162.89</td>\n      <td>0.41</td>\n      <td>1.90</td>\n      <td>21.692</td>\n      <td>21.224</td>\n      <td>20.887</td>\n      <td>103798.83</td>\n      <td>86466.63</td>\n      <td>75891.45</td>\n    </tr>\n    <tr>\n      <th>2020-06-10</th>\n      <td>21.87</td>\n      <td>21.88</td>\n      <td>21.56</td>\n      <td>21.56</td>\n      <td>51312.06</td>\n      <td>-0.34</td>\n      <td>-1.55</td>\n      <td>21.466</td>\n      <td>21.041</td>\n      <td>20.798</td>\n      <td>86158.65</td>\n      <td>79278.93</td>\n      <td>71339.50</td>\n    </tr>\n    <tr>\n      <th>2020-06-09</th>\n      <td>21.76</td>\n      <td>22.09</td>\n      <td>21.90</td>\n      <td>21.66</td>\n      <td>82666.85</td>\n      <td>0.05</td>\n      <td>0.23</td>\n      <td>21.328</td>\n      <td>20.942</td>\n      <td>20.734</td>\n      <td>91077.11</td>\n      <td>80299.32</td>\n      <td>70614.08</td>\n    </tr>\n    <tr>\n      <th>...</th>\n      <td>...</td>\n      <td>...</td>\n      <td>...</td>\n      <td>...</td>\n      <td>...</td>\n      <td>...</td>\n      <td>...</td>\n      <td>...</td>\n      <td>...</td>\n      <td>...</td>\n      <td>...</td>\n      <td>...</td>\n      <td>...</td>\n    </tr>\n    <tr>\n      <th>2017-12-22</th>\n      <td>23.21</td>\n      <td>23.39</td>\n      <td>22.99</td>\n      <td>22.90</td>\n      <td>28394.00</td>\n      <td>-0.21</td>\n      <td>-0.91</td>\n      <td>23.224</td>\n      <td>23.224</td>\n      <td>23.224</td>\n      <td>35689.43</td>\n      <td>35689.43</td>\n      <td>35689.43</td>\n    </tr>\n    <tr>\n      <th>2017-12-21</th>\n      <td>23.39</td>\n      <td>23.50</td>\n      <td>23.21</td>\n      <td>22.86</td>\n      <td>34005.55</td>\n      <td>-0.11</td>\n      <td>-0.47</td>\n      <td>23.283</td>\n      <td>23.283</td>\n      <td>23.283</td>\n      <td>37513.29</td>\n      <td>37513.29</td>\n      <td>37513.29</td>\n    </tr>\n    <tr>\n      <th>2017-12-20</th>\n      <td>23.61</td>\n      <td>23.96</td>\n      <td>23.33</td>\n      <td>23.20</td>\n      <td>43368.92</td>\n      <td>-0.14</td>\n      <td>-0.60</td>\n      <td>23.307</td>\n      <td>23.307</td>\n      <td>23.307</td>\n      <td>38682.54</td>\n      <td>38682.54</td>\n      <td>38682.54</td>\n    </tr>\n    <tr>\n      <th>2017-12-19</th>\n      <td>23.23</td>\n      <td>23.66</td>\n      <td>23.46</td>\n      <td>23.23</td>\n      <td>43068.70</td>\n      <td>0.31</td>\n      <td>1.34</td>\n      <td>23.295</td>\n      <td>23.295</td>\n      <td>23.295</td>\n      <td>36339.35</td>\n      <td>36339.35</td>\n      <td>36339.35</td>\n    </tr>\n    <tr>\n      <th>2017-12-18</th>\n      <td>23.00</td>\n      <td>23.49</td>\n      <td>23.13</td>\n      <td>22.83</td>\n      <td>29610.00</td>\n      <td>0.12</td>\n      <td>0.52</td>\n      <td>23.130</td>\n      <td>23.130</td>\n      <td>23.130</td>\n      <td>29610.00</td>\n      <td>29610.00</td>\n      <td>29610.00</td>\n    </tr>\n  </tbody>\n</table>\n<p>528 rows × 13 columns</p>\n</div>"
     },
     "metadata": {},
     "output_type": "execute_result",
     "execution_count": 3
    }
   ],
   "source": [
    "import tushare as ts\n",
    "\n",
    "print(ts.__version__)\n",
    "\n",
    "ts.get_hist_data('600848') #一次性获取全部日k线数据"
   ]
  },
  {
   "cell_type": "code",
   "execution_count": null,
   "metadata": {},
   "outputs": [],
   "source": []
  }
 ],
 "metadata": {
  "kernelspec": {
   "display_name": "Python 3",
   "language": "python",
   "name": "python3"
  },
  "language_info": {
   "codemirror_mode": {
    "name": "ipython",
    "version": 3
   },
   "file_extension": ".py",
   "mimetype": "text/x-python",
   "name": "python",
   "nbconvert_exporter": "python",
   "pygments_lexer": "ipython3",
   "version": "3.7.6"
  },
  "pycharm": {
   "stem_cell": {
    "cell_type": "raw",
    "source": [],
    "metadata": {
     "collapsed": false
    }
   }
  }
 },
 "nbformat": 4,
 "nbformat_minor": 4
}